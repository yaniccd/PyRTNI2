{
 "cells": [
  {
   "cell_type": "markdown",
   "metadata": {},
   "source": [
    "# Average of the higher orders photon-number cumulant\n",
    "\n",
    "We need, assuming that $\\bar{m}=\\bar{n}$,\n",
    "\n",
    "\\begin{align}\n",
    "    M_{ij}N_{kl} = \\braket{i|UQU^T|j}\\braket{k|U^*QU^T|l}\n",
    "\\end{align}\n",
    "\n",
    "For arbitrary $(i,j,k,l)$. We can show that $\\left(\\ket{j}\\bra{k}\\right)_{pq} = \\delta_{jp}\\delta_{kq}$, a zero matrix with a lonely one at index $j,k$. Meaning that the matrix for arbitrary matrices,\n",
    "\\begin{equation}\n",
    "     \\left(A\\ket{j}\\bra{k}B\\right)_{pq} = A_{pj}B_{qk} \n",
    "\\end{equation}\n",
    "Generalizing to term of the cumulants."
   ]
  },
  {
   "cell_type": "code",
   "execution_count": null,
   "metadata": {},
   "outputs": [],
   "source": []
  }
 ],
 "metadata": {
  "language_info": {
   "name": "python"
  }
 },
 "nbformat": 4,
 "nbformat_minor": 2
}
