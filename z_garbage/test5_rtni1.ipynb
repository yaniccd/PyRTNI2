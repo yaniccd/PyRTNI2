{
 "cells": [
  {
   "cell_type": "markdown",
   "metadata": {},
   "source": [
    "# Testing a result from RTNI1\n",
    "\n",
    "$$\\mathbb{E}_{\\mathcal{U}\\left(d\\right)}\\left[XU^{\\dag}YU^T\\right] = XY^T/d $$"
   ]
  },
  {
   "cell_type": "markdown",
   "metadata": {},
   "source": [
    "# "
   ]
  },
  {
   "cell_type": "code",
   "execution_count": 7,
   "metadata": {},
   "outputs": [],
   "source": [
    "import rtni2 as rtni\n",
    "from sympy import symbols\n",
    "import copy"
   ]
  },
  {
   "cell_type": "code",
   "execution_count": 8,
   "metadata": {},
   "outputs": [],
   "source": [
    "d = symbols('d')\n",
    "U = rtni.matrix(name='U', dims=[[d],[d]])\n",
    "X = rtni.matrix(name='X', dims=[[d],[d]])\n",
    "Y = rtni.matrix(name='Y', dims=[[d],[d]])\n",
    "Ud = U.clone(); Ud.adjoint()\n",
    "Ut =  U.clone(); Ut.transpose()"
   ]
  },
  {
   "cell_type": "code",
   "execution_count": 9,
   "metadata": {},
   "outputs": [
    {
     "name": "stdout",
     "output_type": "stream",
     "text": [
      "Connected.\n",
      "Connected.\n",
      "Connected.\n"
     ]
    }
   ],
   "source": [
    "X.inn(0) * Ud.out(0)\n",
    "Ud.inn(0) * Y.out(0)\n",
    "Y.inn(0) * Ut.out(0)"
   ]
  },
  {
   "cell_type": "code",
   "execution_count": 10,
   "metadata": {},
   "outputs": [
    {
     "name": "stdout",
     "output_type": "stream",
     "text": [
      "tensor U clone 1 has been added.\n",
      "tensor U clone 2 has been added.\n",
      "tensor X clone 0 has been added.\n",
      "tensor Y clone 0 has been added.\n"
     ]
    }
   ],
   "source": [
    "tensor_networks = rtni.tensornetworks([Ud, Ut, X, Y])"
   ]
  },
  {
   "cell_type": "code",
   "execution_count": 11,
   "metadata": {},
   "outputs": [],
   "source": [
    "tensor_networks_u = copy.deepcopy(tensor_networks)"
   ]
  },
  {
   "cell_type": "code",
   "execution_count": 12,
   "metadata": {},
   "outputs": [
    {
     "name": "stdout",
     "output_type": "stream",
     "text": [
      "Integrated. We now have 1 tensor networks.\n",
      "\n",
      "Weight:\n"
     ]
    },
    {
     "data": {
      "text/latex": [
       "$\\displaystyle \\frac{1}{d}$"
      ],
      "text/plain": [
       "1/d"
      ]
     },
     "metadata": {},
     "output_type": "display_data"
    },
    {
     "name": "stdout",
     "output_type": "stream",
     "text": [
      "\n",
      "Edges:\n",
      "{'tensor_name': 'X', 'tensor_id': 0, 'tensor_nickname': 'X_0', 'space_id': 1, 'dim': d, 'is_dangling_end': False, 'side_original': 'in', 'side_space_id': 0}\n",
      "<->\n",
      "{'tensor_name': 'Y', 'tensor_id': 0, 'tensor_nickname': 'Y_0', 'space_id': 1, 'dim': d, 'is_dangling_end': False, 'side_original': 'in', 'side_space_id': 0}\n",
      "\n",
      "{'tensor_name': 'Y', 'tensor_id': 0, 'tensor_nickname': 'Y_0', 'space_id': 0, 'dim': d, 'is_dangling_end': False, 'side_original': 'out', 'side_space_id': 0}\n",
      "<->\n",
      "{'tensor_name': 'dg_U', 'tensor_id': 2, 'tensor_nickname': 'dg_U_2', 'space_id': 0, 'dim': d, 'is_dangling_end': True, 'side_original': 'out', 'side_space_id': 0, 'tensor_name_origonal': 'U'}\n",
      "\n",
      "\n"
     ]
    }
   ],
   "source": [
    "tensor_networks_u.integrate('U', 'unitary')\n",
    "tensor_networks_u.show()"
   ]
  },
  {
   "cell_type": "markdown",
   "metadata": {},
   "source": [
    "The connection with $X$ and $Y$ should be out with out."
   ]
  },
  {
   "cell_type": "code",
   "execution_count": 13,
   "metadata": {},
   "outputs": [
    {
     "data": {
      "text/plain": [
       "[{'tensor_name': 'X',\n",
       "  'tensor_id': 0,\n",
       "  'tensor_nickname': 'X_0',\n",
       "  'space_id': 1,\n",
       "  'dim': d,\n",
       "  'is_dangling_end': False,\n",
       "  'side_original': 'in',\n",
       "  'side_space_id': 0},\n",
       " {'tensor_name': 'Y',\n",
       "  'tensor_id': 0,\n",
       "  'tensor_nickname': 'Y_0',\n",
       "  'space_id': 1,\n",
       "  'dim': d,\n",
       "  'is_dangling_end': False,\n",
       "  'side_original': 'in',\n",
       "  'side_space_id': 0}]"
      ]
     },
     "metadata": {},
     "output_type": "display_data"
    },
    {
     "data": {
      "text/plain": [
       "[{'tensor_name': 'Y',\n",
       "  'tensor_id': 0,\n",
       "  'tensor_nickname': 'Y_0',\n",
       "  'space_id': 0,\n",
       "  'dim': d,\n",
       "  'is_dangling_end': False,\n",
       "  'side_original': 'out',\n",
       "  'side_space_id': 0},\n",
       " {'tensor_name': 'dg_U',\n",
       "  'tensor_id': 2,\n",
       "  'tensor_nickname': 'dg_U_2',\n",
       "  'space_id': 0,\n",
       "  'dim': d,\n",
       "  'is_dangling_end': True,\n",
       "  'side_original': 'out',\n",
       "  'side_space_id': 0,\n",
       "  'tensor_name_origonal': 'U'}]"
      ]
     },
     "metadata": {},
     "output_type": "display_data"
    }
   ],
   "source": [
    "for edge in tensor_networks_u[0]._get_edges():\n",
    "    display(edge)"
   ]
  }
 ],
 "metadata": {
  "kernelspec": {
   "display_name": "thewalrus",
   "language": "python",
   "name": "python3"
  },
  "language_info": {
   "codemirror_mode": {
    "name": "ipython",
    "version": 3
   },
   "file_extension": ".py",
   "mimetype": "text/x-python",
   "name": "python",
   "nbconvert_exporter": "python",
   "pygments_lexer": "ipython3",
   "version": "3.10.0"
  }
 },
 "nbformat": 4,
 "nbformat_minor": 2
}
