{
 "cells": [
  {
   "cell_type": "markdown",
   "metadata": {},
   "source": [
    "# Average of the phase sensitive matrix $M$ over the Haar distributed unitary matrices\n",
    "# $\\mathbb{E}_{\\mathcal{U}\\left(\\ell\\right)}\\left[M\\right]$\n",
    "\n",
    "Assuming that the eccentricity is such as $\\bar{m}=1$, the average of the phase sensitive matrix is\n",
    "$$ \\mathbb{E}_{\\mathcal{U}\\left(\\ell\\right)}\\left[M\\right] = \\mathbb{E}_{\\mathcal{U}\\left(\\ell\\right)}\\left[UQU^T\\right],$$\n",
    "\n",
    "where $Q = \\mathbb{1}_{k}\\oplus 0_{\\ell-k}$, which could represent a quantum state sent into $k$ modes of an $\\ell$-mode interferometer, leaving the other modes to the vacuum."
   ]
  },
  {
   "cell_type": "code",
   "execution_count": 25,
   "metadata": {},
   "outputs": [],
   "source": [
    "import rtni2 as rtni\n",
    "from sympy import symbols\n",
    "import copy"
   ]
  },
  {
   "cell_type": "markdown",
   "metadata": {},
   "source": [
    "1. Define the matrices"
   ]
  },
  {
   "cell_type": "code",
   "execution_count": 27,
   "metadata": {},
   "outputs": [],
   "source": [
    "n = symbols('n')\n",
    "U = rtni.matrix(name='U', dims=[[n],[n]], nickname='unitary')\n",
    "Q = rtni.matrix(name='Q', dims=[[n],[n]])\n",
    "UT = U.clone(nickname='unitary'); UT.transpose()"
   ]
  },
  {
   "cell_type": "markdown",
   "metadata": {},
   "source": [
    "2. Connecting the matrices (matrix multiplication $UQU^T$)."
   ]
  },
  {
   "cell_type": "code",
   "execution_count": 28,
   "metadata": {},
   "outputs": [
    {
     "name": "stdout",
     "output_type": "stream",
     "text": [
      "Connected.\n",
      "Connected.\n"
     ]
    }
   ],
   "source": [
    "U.inn(0) * Q.out(0)\n",
    "Q.inn(0) * UT.out(0)"
   ]
  },
  {
   "cell_type": "markdown",
   "metadata": {},
   "source": [
    "3. Creating the tensor network"
   ]
  },
  {
   "cell_type": "code",
   "execution_count": 29,
   "metadata": {},
   "outputs": [
    {
     "name": "stdout",
     "output_type": "stream",
     "text": [
      "tensor U clone 0 has been added.\n",
      "tensor Q clone 0 has been added.\n",
      "tensor U clone 1 has been added.\n"
     ]
    }
   ],
   "source": [
    "tensor_networks = rtni.tensornetworks([U, Q, UT])"
   ]
  },
  {
   "cell_type": "markdown",
   "metadata": {},
   "source": [
    "4. Integrating over Haar-distributed unitary matrices."
   ]
  },
  {
   "cell_type": "code",
   "execution_count": 30,
   "metadata": {},
   "outputs": [],
   "source": [
    "# Make a copy so that one can start from here again. This step is not necessary.\n",
    "\n",
    "tensor_networks_u = copy.deepcopy(tensor_networks)"
   ]
  },
  {
   "cell_type": "code",
   "execution_count": 31,
   "metadata": {},
   "outputs": [
    {
     "ename": "TriviallyZero",
     "evalue": "The numbers of random tensors and their complex conjugates must match.",
     "output_type": "error",
     "traceback": [
      "\u001b[0;31m---------------------------------------------------------------------------\u001b[0m",
      "\u001b[0;31mTriviallyZero\u001b[0m                             Traceback (most recent call last)",
      "\u001b[1;32m/home/yaniccd/git/PyRTNI2/test1_phase_sensitive_matrix.ipynb Cell 11\u001b[0m line \u001b[0;36m1\n\u001b[0;32m----> <a href='vscode-notebook-cell://wsl%2Bubuntu/home/yaniccd/git/PyRTNI2/test1_phase_sensitive_matrix.ipynb#X13sdnNjb2RlLXJlbW90ZQ%3D%3D?line=0'>1</a>\u001b[0m tensor_networks_u\u001b[39m.\u001b[39;49mintegrate(\u001b[39m'\u001b[39;49m\u001b[39mU\u001b[39;49m\u001b[39m'\u001b[39;49m, \u001b[39m'\u001b[39;49m\u001b[39munitary\u001b[39;49m\u001b[39m'\u001b[39;49m)\n\u001b[1;32m      <a href='vscode-notebook-cell://wsl%2Bubuntu/home/yaniccd/git/PyRTNI2/test1_phase_sensitive_matrix.ipynb#X13sdnNjb2RlLXJlbW90ZQ%3D%3D?line=1'>2</a>\u001b[0m tensor_networks_u\u001b[39m.\u001b[39mshow()\n",
      "File \u001b[0;32m~/git/PyRTNI2/rtni2.py:559\u001b[0m, in \u001b[0;36mTensorNetworks.integrate\u001b[0;34m(self, random_tensor_name, random_tensor_type)\u001b[0m\n\u001b[1;32m    554\u001b[0m \u001b[39mdef\u001b[39;00m \u001b[39mintegrate\u001b[39m(\u001b[39mself\u001b[39m, random_tensor_name, random_tensor_type):\n\u001b[1;32m    555\u001b[0m     \n\u001b[1;32m    556\u001b[0m     \u001b[39m# make sure that the system has not been integrated over the nominated. \u001b[39;00m\n\u001b[1;32m    557\u001b[0m     \u001b[39mif\u001b[39;00m random_tensor_name \u001b[39mnot\u001b[39;00m \u001b[39min\u001b[39;00m \u001b[39mself\u001b[39m\u001b[39m.\u001b[39m_info_removed:\n\u001b[1;32m    558\u001b[0m         \u001b[39m# make the dict of the necessary info for integration. \u001b[39;00m\n\u001b[0;32m--> 559\u001b[0m         integration_dict \u001b[39m=\u001b[39m \u001b[39mself\u001b[39;49m\u001b[39m.\u001b[39;49m_make_integration_dict(random_tensor_name, random_tensor_type)\n\u001b[1;32m    560\u001b[0m         \u001b[39m# record that the integration is done; not yet though. \u001b[39;00m\n\u001b[1;32m    561\u001b[0m         \u001b[39mself\u001b[39m\u001b[39m.\u001b[39m_info_removed[random_tensor_name] \u001b[39m=\u001b[39m integration_dict\n",
      "File \u001b[0;32m~/git/PyRTNI2/rtni2.py:541\u001b[0m, in \u001b[0;36mTensorNetworks._make_integration_dict\u001b[0;34m(self, random_tensor_name, random_tensor_type)\u001b[0m\n\u001b[1;32m    539\u001b[0m     num_conjugate \u001b[39m=\u001b[39m \u001b[39msum\u001b[39m(\u001b[39m1\u001b[39m \u001b[39mfor\u001b[39;00m t \u001b[39min\u001b[39;00m rts_sample \u001b[39mif\u001b[39;00m t\u001b[39m.\u001b[39m_conjugate \u001b[39m==\u001b[39m \u001b[39mTrue\u001b[39;00m)\n\u001b[1;32m    540\u001b[0m     \u001b[39mif\u001b[39;00m num_vanilla \u001b[39m!=\u001b[39m num_conjugate:\n\u001b[0;32m--> 541\u001b[0m         \u001b[39mraise\u001b[39;00m TriviallyZero(\u001b[39m'\u001b[39m\u001b[39mThe numbers of random tensors and their complex conjugates must match.\u001b[39m\u001b[39m'\u001b[39m) \n\u001b[1;32m    542\u001b[0m     integration_dict[\u001b[39m'\u001b[39m\u001b[39msize\u001b[39m\u001b[39m'\u001b[39m] \u001b[39m=\u001b[39m num_vanilla\n\u001b[1;32m    544\u001b[0m \u001b[39melse\u001b[39;00m:\n",
      "\u001b[0;31mTriviallyZero\u001b[0m: The numbers of random tensors and their complex conjugates must match."
     ]
    }
   ],
   "source": [
    "tensor_networks_u.integrate('U', 'unitary')\n",
    "tensor_networks_u.show()"
   ]
  }
 ],
 "metadata": {
  "kernelspec": {
   "display_name": "thewalrus",
   "language": "python",
   "name": "python3"
  },
  "language_info": {
   "codemirror_mode": {
    "name": "ipython",
    "version": 3
   },
   "file_extension": ".py",
   "mimetype": "text/x-python",
   "name": "python",
   "nbconvert_exporter": "python",
   "pygments_lexer": "ipython3",
   "version": "3.10.0"
  }
 },
 "nbformat": 4,
 "nbformat_minor": 2
}
