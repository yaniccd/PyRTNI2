{
 "cells": [
  {
   "cell_type": "markdown",
   "metadata": {},
   "source": [
    "# Testing a result from RTNI1\n",
    "\n",
    "According to Eq.(29) of the paper `RTNI—A symbolic integrator for Haar-random tensor networks` by `Motohisa Fukuda`\n",
    "\\begin{align*}\n",
    "    \\mathbb{E}_{\\mathcal{U}\\left(d\\right)}\\left[VUWU^{\\dag}XU^TYU^*\\right] &= -\\frac{1}{d^4-5d^2+4}VY^TXW^T-\\frac{1}{d^4-5d^2+4}\\text{Tr}(W)VY^TW\\\\\n",
    "    &\\qquad-\\frac{1}{d^4-5d^2+4}\\text{Tr}(Y)VXW^T-\\frac{1}{d^4-5d^2+4}\\text{Tr}(W)\\text{Tr}(Y)VX\n",
    "\\end{align*}\n",
    "\n",
    "[DOI 10.1088/1751-8121/ab434b](https://iopscience.iop.org/article/10.1088/1751-8121/ab434b/pdf?casa_token=AkDlE1RyUoQAAAAA:7bKZVeF-KoZusdpv7I1I5GIdgKRwVolqY59GDssjWgBii_ojE3FxvZ1N0cxECwoNRftlwTu8oEu7Yr5MTrwcLBsIwxzz)."
   ]
  },
  {
   "cell_type": "code",
   "execution_count": 1,
   "metadata": {},
   "outputs": [],
   "source": [
    "import rtni2 as rtni\n",
    "from sympy import symbols\n",
    "import copy"
   ]
  },
  {
   "cell_type": "code",
   "execution_count": 2,
   "metadata": {},
   "outputs": [],
   "source": [
    "d = symbols('d')\n",
    "U = rtni.matrix(name='U', dims=[[d],[d]])\n",
    "V = rtni.matrix(name='V', dims=[[d],[d]])\n",
    "W = rtni.matrix(name='W', dims=[[d],[d]])\n",
    "X = rtni.matrix(name='X', dims=[[d],[d]])\n",
    "Y = rtni.matrix(name='Y', dims=[[d],[d]])\n",
    "Ud = U.clone(); Ud.adjoint()\n",
    "Uc = U.clone(); Uc.conjugate()\n",
    "Ut =  U.clone(); Ut.transpose()"
   ]
  },
  {
   "cell_type": "code",
   "execution_count": 3,
   "metadata": {},
   "outputs": [
    {
     "name": "stdout",
     "output_type": "stream",
     "text": [
      "Connected.\n",
      "Connected.\n",
      "Connected.\n",
      "Connected.\n",
      "Connected.\n",
      "Connected.\n",
      "Connected.\n"
     ]
    }
   ],
   "source": [
    "V.inn(0) * U.out(0)\n",
    "U.inn(0) * W.out(0)\n",
    "W.inn(0) * Ud.out(0)\n",
    "Ud.inn(0) * X.out(0)\n",
    "X.inn(0) * Ut.out(0)\n",
    "Ut.inn(0) * Y.out(0)\n",
    "Y.inn(0) * Uc.out(0)\n"
   ]
  },
  {
   "cell_type": "code",
   "execution_count": 4,
   "metadata": {},
   "outputs": [
    {
     "name": "stdout",
     "output_type": "stream",
     "text": [
      "tensor U clone 0 has been added.\n",
      "tensor U clone 2 has been added.\n",
      "tensor U clone 1 has been added.\n",
      "tensor U clone 3 has been added.\n",
      "tensor V clone 0 has been added.\n",
      "tensor W clone 0 has been added.\n",
      "tensor X clone 0 has been added.\n",
      "tensor Y clone 0 has been added.\n"
     ]
    }
   ],
   "source": [
    "tensor_networks = rtni.tensornetworks([U, Uc, Ud, Ut, V, W, X, Y])"
   ]
  },
  {
   "cell_type": "code",
   "execution_count": 5,
   "metadata": {},
   "outputs": [],
   "source": [
    "tensor_networks_u = copy.deepcopy(tensor_networks)"
   ]
  },
  {
   "cell_type": "code",
   "execution_count": 6,
   "metadata": {},
   "outputs": [
    {
     "name": "stdout",
     "output_type": "stream",
     "text": [
      "Integrated. We now have 4 tensor networks.\n",
      "\n",
      "Weight:\n"
     ]
    },
    {
     "data": {
      "text/latex": [
       "$\\displaystyle \\frac{1}{\\left(d - 1\\right) \\left(d + 1\\right)}$"
      ],
      "text/plain": [
       "1/((d - 1)*(d + 1))"
      ]
     },
     "metadata": {},
     "output_type": "display_data"
    },
    {
     "name": "stdout",
     "output_type": "stream",
     "text": [
      "\n",
      "Edges:\n",
      "{'tensor_name': 'V', 'tensor_id': 0, 'tensor_nickname': 'V_0', 'space_id': 1, 'dim': d, 'is_dangling_end': False, 'side_original': 'in', 'side_space_id': 0}\n",
      "<->\n",
      "{'tensor_name': 'Y', 'tensor_id': 0, 'tensor_nickname': 'Y_0', 'space_id': 1, 'dim': d, 'is_dangling_end': False, 'side_original': 'in', 'side_space_id': 0}\n",
      "\n",
      "{'tensor_name': 'W', 'tensor_id': 0, 'tensor_nickname': 'W_0', 'space_id': 0, 'dim': d, 'is_dangling_end': False, 'side_original': 'out', 'side_space_id': 0}\n",
      "<->\n",
      "{'tensor_name': 'dg_U', 'tensor_id': 2, 'tensor_nickname': 'dg_U_2', 'space_id': 1, 'dim': d, 'is_dangling_end': True, 'side_original': 'in', 'side_space_id': 0, 'tensor_name_origonal': 'U'}\n",
      "\n",
      "{'tensor_name': 'W', 'tensor_id': 0, 'tensor_nickname': 'W_0', 'space_id': 1, 'dim': d, 'is_dangling_end': False, 'side_original': 'in', 'side_space_id': 0}\n",
      "<->\n",
      "{'tensor_name': 'X', 'tensor_id': 0, 'tensor_nickname': 'X_0', 'space_id': 1, 'dim': d, 'is_dangling_end': False, 'side_original': 'in', 'side_space_id': 0}\n",
      "\n",
      "{'tensor_name': 'X', 'tensor_id': 0, 'tensor_nickname': 'X_0', 'space_id': 0, 'dim': d, 'is_dangling_end': False, 'side_original': 'out', 'side_space_id': 0}\n",
      "<->\n",
      "{'tensor_name': 'Y', 'tensor_id': 0, 'tensor_nickname': 'Y_0', 'space_id': 0, 'dim': d, 'is_dangling_end': False, 'side_original': 'out', 'side_space_id': 0}\n",
      "\n",
      "\n",
      "Weight:\n"
     ]
    },
    {
     "data": {
      "text/latex": [
       "$\\displaystyle - \\frac{1}{d \\left(d - 1\\right) \\left(d + 1\\right)}$"
      ],
      "text/plain": [
       "-1/(d*(d - 1)*(d + 1))"
      ]
     },
     "metadata": {},
     "output_type": "display_data"
    },
    {
     "name": "stdout",
     "output_type": "stream",
     "text": [
      "\n",
      "Edges:\n",
      "{'tensor_name': 'V', 'tensor_id': 0, 'tensor_nickname': 'V_0', 'space_id': 1, 'dim': d, 'is_dangling_end': False, 'side_original': 'in', 'side_space_id': 0}\n",
      "<->\n",
      "{'tensor_name': 'Y', 'tensor_id': 0, 'tensor_nickname': 'Y_0', 'space_id': 1, 'dim': d, 'is_dangling_end': False, 'side_original': 'in', 'side_space_id': 0}\n",
      "\n",
      "{'tensor_name': 'W', 'tensor_id': 0, 'tensor_nickname': 'W_0', 'space_id': 0, 'dim': d, 'is_dangling_end': False, 'side_original': 'out', 'side_space_id': 0}\n",
      "<->\n",
      "{'tensor_name': 'W', 'tensor_id': 0, 'tensor_nickname': 'W_0', 'space_id': 1, 'dim': d, 'is_dangling_end': False, 'side_original': 'in', 'side_space_id': 0}\n",
      "\n",
      "{'tensor_name': 'X', 'tensor_id': 0, 'tensor_nickname': 'X_0', 'space_id': 0, 'dim': d, 'is_dangling_end': False, 'side_original': 'out', 'side_space_id': 0}\n",
      "<->\n",
      "{'tensor_name': 'Y', 'tensor_id': 0, 'tensor_nickname': 'Y_0', 'space_id': 0, 'dim': d, 'is_dangling_end': False, 'side_original': 'out', 'side_space_id': 0}\n",
      "\n",
      "{'tensor_name': 'X', 'tensor_id': 0, 'tensor_nickname': 'X_0', 'space_id': 1, 'dim': d, 'is_dangling_end': False, 'side_original': 'in', 'side_space_id': 0}\n",
      "<->\n",
      "{'tensor_name': 'dg_U', 'tensor_id': 2, 'tensor_nickname': 'dg_U_2', 'space_id': 1, 'dim': d, 'is_dangling_end': True, 'side_original': 'in', 'side_space_id': 0, 'tensor_name_origonal': 'U'}\n",
      "\n",
      "\n",
      "Weight:\n"
     ]
    },
    {
     "data": {
      "text/latex": [
       "$\\displaystyle - \\frac{1}{d \\left(d - 1\\right) \\left(d + 1\\right)}$"
      ],
      "text/plain": [
       "-1/(d*(d - 1)*(d + 1))"
      ]
     },
     "metadata": {},
     "output_type": "display_data"
    },
    {
     "name": "stdout",
     "output_type": "stream",
     "text": [
      "\n",
      "Edges:\n",
      "{'tensor_name': 'V', 'tensor_id': 0, 'tensor_nickname': 'V_0', 'space_id': 1, 'dim': d, 'is_dangling_end': False, 'side_original': 'in', 'side_space_id': 0}\n",
      "<->\n",
      "{'tensor_name': 'X', 'tensor_id': 0, 'tensor_nickname': 'X_0', 'space_id': 0, 'dim': d, 'is_dangling_end': False, 'side_original': 'out', 'side_space_id': 0}\n",
      "\n",
      "{'tensor_name': 'W', 'tensor_id': 0, 'tensor_nickname': 'W_0', 'space_id': 0, 'dim': d, 'is_dangling_end': False, 'side_original': 'out', 'side_space_id': 0}\n",
      "<->\n",
      "{'tensor_name': 'dg_U', 'tensor_id': 2, 'tensor_nickname': 'dg_U_2', 'space_id': 1, 'dim': d, 'is_dangling_end': True, 'side_original': 'in', 'side_space_id': 0, 'tensor_name_origonal': 'U'}\n",
      "\n",
      "{'tensor_name': 'W', 'tensor_id': 0, 'tensor_nickname': 'W_0', 'space_id': 1, 'dim': d, 'is_dangling_end': False, 'side_original': 'in', 'side_space_id': 0}\n",
      "<->\n",
      "{'tensor_name': 'X', 'tensor_id': 0, 'tensor_nickname': 'X_0', 'space_id': 1, 'dim': d, 'is_dangling_end': False, 'side_original': 'in', 'side_space_id': 0}\n",
      "\n",
      "{'tensor_name': 'Y', 'tensor_id': 0, 'tensor_nickname': 'Y_0', 'space_id': 0, 'dim': d, 'is_dangling_end': False, 'side_original': 'out', 'side_space_id': 0}\n",
      "<->\n",
      "{'tensor_name': 'Y', 'tensor_id': 0, 'tensor_nickname': 'Y_0', 'space_id': 1, 'dim': d, 'is_dangling_end': False, 'side_original': 'in', 'side_space_id': 0}\n",
      "\n",
      "\n",
      "Weight:\n"
     ]
    },
    {
     "data": {
      "text/latex": [
       "$\\displaystyle \\frac{1}{\\left(d - 1\\right) \\left(d + 1\\right)}$"
      ],
      "text/plain": [
       "1/((d - 1)*(d + 1))"
      ]
     },
     "metadata": {},
     "output_type": "display_data"
    },
    {
     "name": "stdout",
     "output_type": "stream",
     "text": [
      "\n",
      "Edges:\n",
      "{'tensor_name': 'V', 'tensor_id': 0, 'tensor_nickname': 'V_0', 'space_id': 1, 'dim': d, 'is_dangling_end': False, 'side_original': 'in', 'side_space_id': 0}\n",
      "<->\n",
      "{'tensor_name': 'X', 'tensor_id': 0, 'tensor_nickname': 'X_0', 'space_id': 0, 'dim': d, 'is_dangling_end': False, 'side_original': 'out', 'side_space_id': 0}\n",
      "\n",
      "{'tensor_name': 'W', 'tensor_id': 0, 'tensor_nickname': 'W_0', 'space_id': 0, 'dim': d, 'is_dangling_end': False, 'side_original': 'out', 'side_space_id': 0}\n",
      "<->\n",
      "{'tensor_name': 'W', 'tensor_id': 0, 'tensor_nickname': 'W_0', 'space_id': 1, 'dim': d, 'is_dangling_end': False, 'side_original': 'in', 'side_space_id': 0}\n",
      "\n",
      "{'tensor_name': 'X', 'tensor_id': 0, 'tensor_nickname': 'X_0', 'space_id': 1, 'dim': d, 'is_dangling_end': False, 'side_original': 'in', 'side_space_id': 0}\n",
      "<->\n",
      "{'tensor_name': 'dg_U', 'tensor_id': 2, 'tensor_nickname': 'dg_U_2', 'space_id': 1, 'dim': d, 'is_dangling_end': True, 'side_original': 'in', 'side_space_id': 0, 'tensor_name_origonal': 'U'}\n",
      "\n",
      "{'tensor_name': 'Y', 'tensor_id': 0, 'tensor_nickname': 'Y_0', 'space_id': 0, 'dim': d, 'is_dangling_end': False, 'side_original': 'out', 'side_space_id': 0}\n",
      "<->\n",
      "{'tensor_name': 'Y', 'tensor_id': 0, 'tensor_nickname': 'Y_0', 'space_id': 1, 'dim': d, 'is_dangling_end': False, 'side_original': 'in', 'side_space_id': 0}\n",
      "\n",
      "\n"
     ]
    }
   ],
   "source": [
    "tensor_networks_u.integrate('U', 'unitary')\n",
    "tensor_networks_u.show()"
   ]
  },
  {
   "cell_type": "markdown",
   "metadata": {},
   "source": [
    "Wich doesn't match the result above?"
   ]
  }
 ],
 "metadata": {
  "kernelspec": {
   "display_name": "thewalrus",
   "language": "python",
   "name": "python3"
  },
  "language_info": {
   "codemirror_mode": {
    "name": "ipython",
    "version": 3
   },
   "file_extension": ".py",
   "mimetype": "text/x-python",
   "name": "python",
   "nbconvert_exporter": "python",
   "pygments_lexer": "ipython3",
   "version": "3.10.0"
  }
 },
 "nbformat": 4,
 "nbformat_minor": 2
}
