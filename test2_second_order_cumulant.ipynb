{
 "cells": [
  {
   "cell_type": "markdown",
   "metadata": {},
   "source": [
    "# Average of the second order photon-number cumulant of gaussian states over the Haar distributed unitary matrices\n",
    "# $\\mathbb{E}_{\\mathcal{U}\\left(\\ell\\right)}\\left[\\langle\\langle n_in_j \\rangle\\rangle\\right]$\n",
    "\n",
    "$\\mathbb{E}_{\\mathcal{U}\\left(\\ell\\right)}\\left[\\langle\\langle n_in_j \\rangle\\rangle\\right] = \\mathbb{E}_{\\mathcal{U}\\left(\\ell\\right)}\\left[\\left|M_{12}\\right|^2 + \\left|N_{12}\\right|^2 \\right] $ for $i \\ne j$, where $\\bm{M}$ and $\\bm{N}$ are  respectively the phase sensitive and phase-insensitive matrices. We denote by $\\ket{i}_{i=1}^\\ell$ the canonical basis for $\\mathbb{C}^\\ell$. Thus,\n",
    "\\begin{align}\n",
    "    M_{ij} = \\braket{i|UQU^T|j},\n",
    "\\end{align}\n",
    "\n",
    "so that\n",
    "\\begin{align}\n",
    "    \\left|M_{ij}\\right|^2 &=M_{ij}M_{ij}^* \\\\\n",
    "    &= \\braket{i|UQU^T|j}\\braket{j|U^*QU^\\dag|i}\\\\\n",
    "    &= \\braket{i|UQU^TPU^*QU^\\dag|i},\n",
    "\\end{align}\n",
    "with $P= \\ket{j}\\bra{j}$. I believe I am allowed to say that $\\mathbb{E}\\left[\\braket{i|A|i}\\right]=\\mathbb{E}\\left[A\\right]_{ii}$. So that\n",
    "\\begin{equation}\n",
    "    \\mathbb{E}_{\\mathcal{U}\\left(\\ell\\right)}\\left[\\left|M_{ij}\\right|^2\\right]= \\mathbb{E}_{\\mathcal{U}\\left(\\ell\\right)}\\left[UQU^TPU^*QU^\\dag\\right]_{ii}\n",
    "\\end{equation}\n"
   ]
  },
  {
   "cell_type": "markdown",
   "metadata": {},
   "source": [
    "## With RTNI2"
   ]
  },
  {
   "cell_type": "code",
   "execution_count": 1,
   "metadata": {},
   "outputs": [],
   "source": [
    "import rtni2 as rtni\n",
    "from sympy import symbols\n",
    "import copy"
   ]
  },
  {
   "cell_type": "markdown",
   "metadata": {},
   "source": [
    "1. Define the matrices"
   ]
  },
  {
   "cell_type": "code",
   "execution_count": 23,
   "metadata": {},
   "outputs": [],
   "source": [
    "n = symbols('n')\n",
    "U = rtni.matrix(name='U', dims=[[n],[n]], nickname='unitary')\n",
    "Q = rtni.matrix(name='Q', dims=[[n],[n]])\n",
    "P = rtni.matrix(name='P', dims=[[n],[n]])\n",
    "Ud = U.clone(nickname='unitary'); Ud.adjoint()\n",
    "Us = U.clone(nickname='unitary'); Us.conjugate()\n",
    "Ut =  U.clone(nickname='unitary'); Ut.transpose()\n",
    "#Qc = Q.clone(nickname='Q')\n",
    "Qc = rtni.matrix(name='Qc', dims=[[n],[n]])"
   ]
  },
  {
   "cell_type": "markdown",
   "metadata": {},
   "source": [
    "2. Connecting the matrices (matrix multiplication $UQU^T$)."
   ]
  },
  {
   "cell_type": "code",
   "execution_count": 24,
   "metadata": {},
   "outputs": [
    {
     "name": "stdout",
     "output_type": "stream",
     "text": [
      "Connected.\n",
      "Connected.\n",
      "Connected.\n",
      "Connected.\n",
      "Connected.\n",
      "Connected.\n"
     ]
    }
   ],
   "source": [
    "U.inn(0) * Q.out(0)\n",
    "Q.inn(0) * Ut.out(0)\n",
    "Ut.inn(0) * P.out(0)\n",
    "P.inn(0) * Us.out(0)\n",
    "Us.inn(0) * Qc.out(0)\n",
    "Qc.inn(0) * Ud.out(0)\n"
   ]
  },
  {
   "cell_type": "markdown",
   "metadata": {},
   "source": [
    "3. Creating the tensor network"
   ]
  },
  {
   "cell_type": "code",
   "execution_count": 25,
   "metadata": {},
   "outputs": [
    {
     "name": "stdout",
     "output_type": "stream",
     "text": [
      "tensor U clone 0 has been added.\n",
      "tensor Q clone 0 has been added.\n",
      "tensor U clone 3 has been added.\n",
      "tensor P clone 0 has been added.\n",
      "tensor U clone 2 has been added.\n",
      "tensor Qc clone 0 has been added.\n",
      "tensor U clone 1 has been added.\n"
     ]
    }
   ],
   "source": [
    "tensor_networks = rtni.tensornetworks([U, Q, Ut, P, Us, Qc, Ud])"
   ]
  },
  {
   "cell_type": "markdown",
   "metadata": {},
   "source": [
    "4. Integrating over Haar-distributed unitary matrices."
   ]
  },
  {
   "cell_type": "code",
   "execution_count": 26,
   "metadata": {},
   "outputs": [],
   "source": [
    "tensor_networks_u = copy.deepcopy(tensor_networks)"
   ]
  },
  {
   "cell_type": "code",
   "execution_count": 27,
   "metadata": {},
   "outputs": [
    {
     "name": "stdout",
     "output_type": "stream",
     "text": [
      "Integrated. We now have 4 tensor networks.\n",
      "\n",
      "Weight:\n"
     ]
    },
    {
     "data": {
      "text/latex": [
       "$\\displaystyle \\frac{1}{\\left(n - 1\\right) \\left(n + 1\\right)}$"
      ],
      "text/plain": [
       "1/((n - 1)*(n + 1))"
      ]
     },
     "metadata": {},
     "output_type": "display_data"
    },
    {
     "name": "stdout",
     "output_type": "stream",
     "text": [
      "\n",
      "Edges:\n",
      "{'tensor_name': 'Q', 'tensor_id': 0, 'tensor_nickname': 'Q_0', 'space_id': 0, 'dim': n, 'is_dangling_end': False, 'side_original': 'out', 'side_space_id': 0}\n",
      "<->\n",
      "{'tensor_name': 'Qc', 'tensor_id': 0, 'tensor_nickname': 'Qc_0', 'space_id': 0, 'dim': n, 'is_dangling_end': False, 'side_original': 'out', 'side_space_id': 0}\n",
      "\n",
      "{'tensor_name': 'Q', 'tensor_id': 0, 'tensor_nickname': 'Q_0', 'space_id': 1, 'dim': n, 'is_dangling_end': False, 'side_original': 'in', 'side_space_id': 0}\n",
      "<->\n",
      "{'tensor_name': 'Qc', 'tensor_id': 0, 'tensor_nickname': 'Qc_0', 'space_id': 1, 'dim': n, 'is_dangling_end': False, 'side_original': 'in', 'side_space_id': 0}\n",
      "\n",
      "{'tensor_name': 'P', 'tensor_id': 0, 'tensor_nickname': 'P_0', 'space_id': 0, 'dim': n, 'is_dangling_end': False, 'side_original': 'out', 'side_space_id': 0}\n",
      "<->\n",
      "{'tensor_name': 'dg_U', 'tensor_id': 1, 'tensor_nickname': 'dg_unitary', 'space_id': 0, 'dim': n, 'is_dangling_end': True, 'side_original': 'out', 'side_space_id': 0, 'tensor_name_origonal': 'U'}\n",
      "\n",
      "{'tensor_name': 'P', 'tensor_id': 0, 'tensor_nickname': 'P_0', 'space_id': 1, 'dim': n, 'is_dangling_end': False, 'side_original': 'in', 'side_space_id': 0}\n",
      "<->\n",
      "{'tensor_name': 'dg_U', 'tensor_id': 0, 'tensor_nickname': 'dg_unitary', 'space_id': 0, 'dim': n, 'is_dangling_end': True, 'side_original': 'out', 'side_space_id': 0, 'tensor_name_origonal': 'U'}\n",
      "\n",
      "\n",
      "Weight:\n"
     ]
    },
    {
     "data": {
      "text/latex": [
       "$\\displaystyle - \\frac{1}{n \\left(n - 1\\right) \\left(n + 1\\right)}$"
      ],
      "text/plain": [
       "-1/(n*(n - 1)*(n + 1))"
      ]
     },
     "metadata": {},
     "output_type": "display_data"
    },
    {
     "name": "stdout",
     "output_type": "stream",
     "text": [
      "\n",
      "Edges:\n",
      "{'tensor_name': 'Q', 'tensor_id': 0, 'tensor_nickname': 'Q_0', 'space_id': 0, 'dim': n, 'is_dangling_end': False, 'side_original': 'out', 'side_space_id': 0}\n",
      "<->\n",
      "{'tensor_name': 'Qc', 'tensor_id': 0, 'tensor_nickname': 'Qc_0', 'space_id': 1, 'dim': n, 'is_dangling_end': False, 'side_original': 'in', 'side_space_id': 0}\n",
      "\n",
      "{'tensor_name': 'Q', 'tensor_id': 0, 'tensor_nickname': 'Q_0', 'space_id': 1, 'dim': n, 'is_dangling_end': False, 'side_original': 'in', 'side_space_id': 0}\n",
      "<->\n",
      "{'tensor_name': 'Qc', 'tensor_id': 0, 'tensor_nickname': 'Qc_0', 'space_id': 0, 'dim': n, 'is_dangling_end': False, 'side_original': 'out', 'side_space_id': 0}\n",
      "\n",
      "{'tensor_name': 'P', 'tensor_id': 0, 'tensor_nickname': 'P_0', 'space_id': 0, 'dim': n, 'is_dangling_end': False, 'side_original': 'out', 'side_space_id': 0}\n",
      "<->\n",
      "{'tensor_name': 'dg_U', 'tensor_id': 1, 'tensor_nickname': 'dg_unitary', 'space_id': 0, 'dim': n, 'is_dangling_end': True, 'side_original': 'out', 'side_space_id': 0, 'tensor_name_origonal': 'U'}\n",
      "\n",
      "{'tensor_name': 'P', 'tensor_id': 0, 'tensor_nickname': 'P_0', 'space_id': 1, 'dim': n, 'is_dangling_end': False, 'side_original': 'in', 'side_space_id': 0}\n",
      "<->\n",
      "{'tensor_name': 'dg_U', 'tensor_id': 0, 'tensor_nickname': 'dg_unitary', 'space_id': 0, 'dim': n, 'is_dangling_end': True, 'side_original': 'out', 'side_space_id': 0, 'tensor_name_origonal': 'U'}\n",
      "\n",
      "\n",
      "Weight:\n"
     ]
    },
    {
     "data": {
      "text/latex": [
       "$\\displaystyle - \\frac{1}{n \\left(n - 1\\right) \\left(n + 1\\right)}$"
      ],
      "text/plain": [
       "-1/(n*(n - 1)*(n + 1))"
      ]
     },
     "metadata": {},
     "output_type": "display_data"
    },
    {
     "name": "stdout",
     "output_type": "stream",
     "text": [
      "\n",
      "Edges:\n",
      "{'tensor_name': 'Q', 'tensor_id': 0, 'tensor_nickname': 'Q_0', 'space_id': 0, 'dim': n, 'is_dangling_end': False, 'side_original': 'out', 'side_space_id': 0}\n",
      "<->\n",
      "{'tensor_name': 'Qc', 'tensor_id': 0, 'tensor_nickname': 'Qc_0', 'space_id': 0, 'dim': n, 'is_dangling_end': False, 'side_original': 'out', 'side_space_id': 0}\n",
      "\n",
      "{'tensor_name': 'Q', 'tensor_id': 0, 'tensor_nickname': 'Q_0', 'space_id': 1, 'dim': n, 'is_dangling_end': False, 'side_original': 'in', 'side_space_id': 0}\n",
      "<->\n",
      "{'tensor_name': 'Qc', 'tensor_id': 0, 'tensor_nickname': 'Qc_0', 'space_id': 1, 'dim': n, 'is_dangling_end': False, 'side_original': 'in', 'side_space_id': 0}\n",
      "\n",
      "{'tensor_name': 'P', 'tensor_id': 0, 'tensor_nickname': 'P_0', 'space_id': 0, 'dim': n, 'is_dangling_end': False, 'side_original': 'out', 'side_space_id': 0}\n",
      "<->\n",
      "{'tensor_name': 'P', 'tensor_id': 0, 'tensor_nickname': 'P_0', 'space_id': 1, 'dim': n, 'is_dangling_end': False, 'side_original': 'in', 'side_space_id': 0}\n",
      "\n",
      "{'tensor_name': 'dg_U', 'tensor_id': 0, 'tensor_nickname': 'dg_unitary', 'space_id': 0, 'dim': n, 'is_dangling_end': True, 'side_original': 'out', 'side_space_id': 0, 'tensor_name_origonal': 'U'}\n",
      "<->\n",
      "{'tensor_name': 'dg_U', 'tensor_id': 1, 'tensor_nickname': 'dg_unitary', 'space_id': 0, 'dim': n, 'is_dangling_end': True, 'side_original': 'out', 'side_space_id': 0, 'tensor_name_origonal': 'U'}\n",
      "\n",
      "\n",
      "Weight:\n"
     ]
    },
    {
     "data": {
      "text/latex": [
       "$\\displaystyle \\frac{1}{\\left(n - 1\\right) \\left(n + 1\\right)}$"
      ],
      "text/plain": [
       "1/((n - 1)*(n + 1))"
      ]
     },
     "metadata": {},
     "output_type": "display_data"
    },
    {
     "name": "stdout",
     "output_type": "stream",
     "text": [
      "\n",
      "Edges:\n",
      "{'tensor_name': 'Q', 'tensor_id': 0, 'tensor_nickname': 'Q_0', 'space_id': 0, 'dim': n, 'is_dangling_end': False, 'side_original': 'out', 'side_space_id': 0}\n",
      "<->\n",
      "{'tensor_name': 'Qc', 'tensor_id': 0, 'tensor_nickname': 'Qc_0', 'space_id': 1, 'dim': n, 'is_dangling_end': False, 'side_original': 'in', 'side_space_id': 0}\n",
      "\n",
      "{'tensor_name': 'Q', 'tensor_id': 0, 'tensor_nickname': 'Q_0', 'space_id': 1, 'dim': n, 'is_dangling_end': False, 'side_original': 'in', 'side_space_id': 0}\n",
      "<->\n",
      "{'tensor_name': 'Qc', 'tensor_id': 0, 'tensor_nickname': 'Qc_0', 'space_id': 0, 'dim': n, 'is_dangling_end': False, 'side_original': 'out', 'side_space_id': 0}\n",
      "\n",
      "{'tensor_name': 'P', 'tensor_id': 0, 'tensor_nickname': 'P_0', 'space_id': 0, 'dim': n, 'is_dangling_end': False, 'side_original': 'out', 'side_space_id': 0}\n",
      "<->\n",
      "{'tensor_name': 'P', 'tensor_id': 0, 'tensor_nickname': 'P_0', 'space_id': 1, 'dim': n, 'is_dangling_end': False, 'side_original': 'in', 'side_space_id': 0}\n",
      "\n",
      "{'tensor_name': 'dg_U', 'tensor_id': 0, 'tensor_nickname': 'dg_unitary', 'space_id': 0, 'dim': n, 'is_dangling_end': True, 'side_original': 'out', 'side_space_id': 0, 'tensor_name_origonal': 'U'}\n",
      "<->\n",
      "{'tensor_name': 'dg_U', 'tensor_id': 1, 'tensor_nickname': 'dg_unitary', 'space_id': 0, 'dim': n, 'is_dangling_end': True, 'side_original': 'out', 'side_space_id': 0, 'tensor_name_origonal': 'U'}\n",
      "\n",
      "\n"
     ]
    }
   ],
   "source": [
    "tensor_networks_u.integrate('U', 'unitary')\n",
    "tensor_networks_u.show()"
   ]
  },
  {
   "cell_type": "markdown",
   "metadata": {},
   "source": [
    "We believe the first term to mean\n",
    "$$ \\frac{1}{n^2-1}\\text{Tr}(Q)^2\\text{Tr}(P)\\mathbb{1}$$\n",
    "\n",
    "For our problem, where $\\text{Tr}(Q)=k$ and $\\text{Tr}(P)=1$\n",
    "\n",
    "The previous statement is wrong. We wrote $$\\text{Tr}(Q)^2=k^2$$ where we should have written $$\\text{Tr}(QQ^T)=\\text{Tr}(Q)=k$$.\n",
    "\n",
    "Although, the factor of $2$ is still to be figured out."
   ]
  }
 ],
 "metadata": {
  "kernelspec": {
   "display_name": "thewalrus",
   "language": "python",
   "name": "python3"
  },
  "language_info": {
   "codemirror_mode": {
    "name": "ipython",
    "version": 3
   },
   "file_extension": ".py",
   "mimetype": "text/x-python",
   "name": "python",
   "nbconvert_exporter": "python",
   "pygments_lexer": "ipython3",
   "version": "3.8.0"
  }
 },
 "nbformat": 4,
 "nbformat_minor": 2
}
