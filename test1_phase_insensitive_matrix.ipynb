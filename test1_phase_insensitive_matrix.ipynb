{
 "cells": [
  {
   "cell_type": "markdown",
   "metadata": {},
   "source": [
    "# Average of the phase insensitive matrix $N$ over the Haar distributed unitary matrices\n",
    "## $\\mathbb{E}_{\\mathcal{U}\\left(\\ell\\right)}\\left[N\\right]$\n",
    "\n",
    "Assuming that the photon-number is such as $\\bar{n}=1$, the average of the phase sensitive matrix is\n",
    "$$ \\mathbb{E}_{\\mathcal{U}\\left(\\ell\\right)}\\left[N\\right] = \\mathbb{E}_{\\mathcal{U}\\left(\\ell\\right)}\\left[U^*QU^T\\right] = \\frac{k}{\\ell}\\mathbb{1},$$\n",
    "\n",
    "where $Q = \\mathbb{1}_{k}\\oplus 0_{\\ell-k}$, which could represent a quantum state sent into $k$ modes of an $\\ell$-mode interferometer, leaving the other modes to the vacuum."
   ]
  },
  {
   "cell_type": "code",
   "execution_count": 1,
   "metadata": {},
   "outputs": [],
   "source": [
    "import rtni2 as rtni\n",
    "from sympy import symbols\n",
    "import copy"
   ]
  },
  {
   "cell_type": "markdown",
   "metadata": {},
   "source": [
    "1. Define the matrices\n",
    "\n",
    "- $d$ is the dimension\n",
    "- By default, a matrix `tensor_nickname` is the `tensor_name` of the original matrix with the `tensor_id` extension. `tensor_id` start at 0 and is increment by one for every clone. The `tensor_nickname` will help us keep track of the final diagram."
   ]
  },
  {
   "cell_type": "code",
   "execution_count": 2,
   "metadata": {},
   "outputs": [
    {
     "name": "stdout",
     "output_type": "stream",
     "text": [
      "{'tensor_name': 'U', 'tensor_id': 2, 'tensor_nickname': 'U_2', 'dims': (d, d), 'dims_mat': ((d,), (d,)), 'transpose': False, 'conjugate': True}\n",
      "\n"
     ]
    }
   ],
   "source": [
    "d = symbols('d')\n",
    "U = rtni.matrix(name='U', dims=[[d],[d]])\n",
    "Q = rtni.matrix(name='Q', dims=[[d],[d]])\n",
    "UT = U.clone(); UT.transpose()\n",
    "Us = U.clone(); Us.conjugate()\n",
    "\n",
    "print(Us)"
   ]
  },
  {
   "cell_type": "markdown",
   "metadata": {},
   "source": [
    "2. Connecting the matrices (matrix multiplication $U^*QU^T$) and the tensor network"
   ]
  },
  {
   "cell_type": "code",
   "execution_count": 4,
   "metadata": {},
   "outputs": [
    {
     "name": "stdout",
     "output_type": "stream",
     "text": [
      "These two are already connected to each other.\n",
      "These two are already connected to each other.\n",
      "tensor U clone 2 has been added.\n",
      "tensor Q clone 0 has been added.\n",
      "tensor U clone 1 has been added.\n",
      "Weight:\n"
     ]
    },
    {
     "data": {
      "text/plain": [
       "1"
      ]
     },
     "metadata": {},
     "output_type": "display_data"
    },
    {
     "name": "stdout",
     "output_type": "stream",
     "text": [
      "\n",
      "Edges:\n",
      "{'tensor_name': 'Q', 'tensor_id': 0, 'tensor_nickname': 'Q_0', 'space_id': 0, 'dim': d, 'is_dangling_end': False, 'side_original': 'out', 'side_space_id': 0}\n",
      "<->\n",
      "{'tensor_name': 'U', 'tensor_id': 2, 'tensor_nickname': 'U_2', 'space_id': 1, 'dim': d, 'is_dangling_end': False, 'side_original': 'in', 'side_space_id': 0}\n",
      "\n",
      "{'tensor_name': 'Q', 'tensor_id': 0, 'tensor_nickname': 'Q_0', 'space_id': 1, 'dim': d, 'is_dangling_end': False, 'side_original': 'in', 'side_space_id': 0}\n",
      "<->\n",
      "{'tensor_name': 'U', 'tensor_id': 1, 'tensor_nickname': 'U_1', 'space_id': 1, 'dim': d, 'is_dangling_end': False, 'side_original': 'in', 'side_space_id': 0}\n",
      "\n",
      "\n"
     ]
    }
   ],
   "source": [
    "Us.inn(0) * Q.out(0)\n",
    "Q.inn(0) * UT.out(0)\n",
    "tensor_networks = rtni.tensornetworks([Us, Q, UT])\n",
    "tensor_networks.show()"
   ]
  },
  {
   "cell_type": "markdown",
   "metadata": {},
   "source": [
    "4. Integrating over Haar-distributed unitary matrices."
   ]
  },
  {
   "cell_type": "code",
   "execution_count": 14,
   "metadata": {},
   "outputs": [],
   "source": [
    "# Make a copy so that one can start from here again. This step is not necessary.\n",
    "\n",
    "tensor_networks_u = copy.deepcopy(tensor_networks)"
   ]
  },
  {
   "cell_type": "code",
   "execution_count": 15,
   "metadata": {},
   "outputs": [
    {
     "name": "stdout",
     "output_type": "stream",
     "text": [
      "Integrated. We now have 1 tensor networks.\n",
      "\n",
      "Weight:\n"
     ]
    },
    {
     "data": {
      "text/latex": [
       "$\\displaystyle \\frac{1}{d}$"
      ],
      "text/plain": [
       "1/d"
      ]
     },
     "metadata": {},
     "output_type": "display_data"
    },
    {
     "name": "stdout",
     "output_type": "stream",
     "text": [
      "\n",
      "Edges:\n",
      "{'tensor_name': 'Q', 'tensor_id': 0, 'tensor_nickname': 'Q_0', 'space_id': 0, 'dim': d, 'is_dangling_end': False, 'side_original': 'out', 'side_space_id': 0}\n",
      "<->\n",
      "{'tensor_name': 'Q', 'tensor_id': 0, 'tensor_nickname': 'Q_0', 'space_id': 1, 'dim': d, 'is_dangling_end': False, 'side_original': 'in', 'side_space_id': 0}\n",
      "\n",
      "{'tensor_name': 'dg_U', 'tensor_id': 1, 'tensor_nickname': 'dg_U_1', 'space_id': 0, 'dim': d, 'is_dangling_end': True, 'side_original': 'out', 'side_space_id': 0, 'tensor_name_origonal': 'U'}\n",
      "<->\n",
      "{'tensor_name': 'dg_U', 'tensor_id': 2, 'tensor_nickname': 'dg_U_2', 'space_id': 0, 'dim': d, 'is_dangling_end': True, 'side_original': 'out', 'side_space_id': 0, 'tensor_name_origonal': 'U'}\n",
      "\n",
      "\n"
     ]
    }
   ],
   "source": [
    "tensor_networks_u.integrate('U', 'unitary')\n",
    "tensor_networks_u.show()"
   ]
  }
 ],
 "metadata": {
  "kernelspec": {
   "display_name": "thewalrus",
   "language": "python",
   "name": "python3"
  },
  "language_info": {
   "codemirror_mode": {
    "name": "ipython",
    "version": 3
   },
   "file_extension": ".py",
   "mimetype": "text/x-python",
   "name": "python",
   "nbconvert_exporter": "python",
   "pygments_lexer": "ipython3",
   "version": "3.8.0"
  }
 },
 "nbformat": 4,
 "nbformat_minor": 2
}
